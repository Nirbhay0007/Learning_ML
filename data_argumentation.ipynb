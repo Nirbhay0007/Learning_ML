{
  "cells": [
    {
      "cell_type": "markdown",
      "metadata": {
        "id": "view-in-github",
        "colab_type": "text"
      },
      "source": [
        "<a href=\"https://colab.research.google.com/github/Nirbhay0007/Learning_ML/blob/master/data_argumentation.ipynb\" target=\"_parent\"><img src=\"https://colab.research.google.com/assets/colab-badge.svg\" alt=\"Open In Colab\"/></a>"
      ]
    },
    {
      "cell_type": "code",
      "execution_count": 1,
      "metadata": {
        "id": "QbsPXw4mc_RJ"
      },
      "outputs": [],
      "source": [
        "import matplotlib.pyplot as plt\n",
        "import numpy as np\n",
        "import os\n",
        "import PIL\n",
        "import tensorflow as tf\n",
        "from tensorflow import keras\n",
        "from tensorflow.keras import layers\n",
        "from tensorflow.keras.models import Sequential\n"
      ]
    },
    {
      "cell_type": "markdown",
      "metadata": {
        "id": "KQRZaeXJc_RM"
      },
      "source": [
        "### DATA DOWNLOADING"
      ]
    },
    {
      "cell_type": "code",
      "execution_count": 2,
      "metadata": {
        "id": "YP3f90_Kc_RP"
      },
      "outputs": [],
      "source": [
        "# tf.keras.utils.get_file()----> it is utility function provided by tensorflow to download ,manipulate data from url\n",
        "# file_name ----> compulsory , it name the file after download\n",
        "#orgin----> from where to download\n",
        "#extracr--> if the data in a zip or taz file\n",
        "#cashe_dir----> to download the data in currenet directary\n",
        "# dataset_url=\"https://storage.googleapis.com/download.tensorflow.org/example_images/flower_photos.tgz\"\n",
        "# data_dir=tf.keras.utils.get_file(\"flowe_photos\",origin=dataset_url,cache_dir=\".\",untar=True)\n"
      ]
    },
    {
      "cell_type": "code",
      "execution_count": 3,
      "metadata": {
        "colab": {
          "base_uri": "https://localhost:8080/"
        },
        "id": "achU-n2Sc_RP",
        "outputId": "3bed842a-5611-4515-e9de-3284eac7116e"
      },
      "outputs": [
        {
          "output_type": "stream",
          "name": "stdout",
          "text": [
            "datasets/flower_photos\n"
          ]
        }
      ],
      "source": [
        "#  pathlib is an oop way to handle filesystem , convient than os and other\n",
        "import pathlib\n",
        "\n",
        "# Original incorrect path\n",
        "incorrect_path = 'datasets/flowe_photos'\n",
        "\n",
        "# Fixing the typo in the path\n",
        "corrected_path = incorrect_path.replace('flowe', 'flower')\n",
        "\n",
        "# Creating a Path object with the corrected path\n",
        "data_dir = pathlib.Path(corrected_path)\n",
        "\n",
        "# Now data_dir points to the correct path: 'datasets/flower_photos'\n",
        "print(data_dir)\n"
      ]
    },
    {
      "cell_type": "code",
      "execution_count": 7,
      "metadata": {
        "colab": {
          "base_uri": "https://localhost:8080/"
        },
        "id": "mPRuTU-2c_RQ",
        "outputId": "616d4166-1ea6-4264-ae18-e2cd254da3e7"
      },
      "outputs": [
        {
          "output_type": "execute_result",
          "data": {
            "text/plain": [
              "0"
            ]
          },
          "metadata": {},
          "execution_count": 7
        }
      ],
      "source": [
        "image_count=len(list(data_dir.glob('*/*.jpg')))\n",
        "image_count\n",
        "\n"
      ]
    },
    {
      "cell_type": "markdown",
      "metadata": {
        "id": "xz_-dDH6c_RQ"
      },
      "source": [
        "### DATA VISIUALISATION"
      ]
    },
    {
      "cell_type": "code",
      "execution_count": 5,
      "metadata": {
        "colab": {
          "base_uri": "https://localhost:8080/"
        },
        "id": "gutZttN9c_RR",
        "outputId": "16cbf215-82d1-481b-9669-7895fc302d5a"
      },
      "outputs": [
        {
          "output_type": "execute_result",
          "data": {
            "text/plain": [
              "[]"
            ]
          },
          "metadata": {},
          "execution_count": 5
        }
      ],
      "source": [
        "roses=list(data_dir.glob('roses/*'))\n",
        "roses[:9]"
      ]
    },
    {
      "cell_type": "code",
      "execution_count": 5,
      "metadata": {
        "id": "p-4CAHHkc_RR"
      },
      "outputs": [],
      "source": []
    },
    {
      "cell_type": "code",
      "execution_count": 6,
      "metadata": {
        "colab": {
          "base_uri": "https://localhost:8080/",
          "height": 196
        },
        "id": "sxRUg3axc_RR",
        "outputId": "ada6aa78-30e5-4f7f-e776-615408600b22"
      },
      "outputs": [
        {
          "output_type": "error",
          "ename": "IndexError",
          "evalue": "ignored",
          "traceback": [
            "\u001b[0;31m---------------------------------------------------------------------------\u001b[0m",
            "\u001b[0;31mIndexError\u001b[0m                                Traceback (most recent call last)",
            "\u001b[0;32m<ipython-input-6-7e0066c68781>\u001b[0m in \u001b[0;36m<cell line: 2>\u001b[0;34m()\u001b[0m\n\u001b[1;32m      1\u001b[0m \u001b[0;31m# open some image using PIL library of python\u001b[0m\u001b[0;34m\u001b[0m\u001b[0;34m\u001b[0m\u001b[0m\n\u001b[0;32m----> 2\u001b[0;31m \u001b[0mPIL\u001b[0m\u001b[0;34m.\u001b[0m\u001b[0mImage\u001b[0m\u001b[0;34m.\u001b[0m\u001b[0mopen\u001b[0m\u001b[0;34m(\u001b[0m\u001b[0mstr\u001b[0m\u001b[0;34m(\u001b[0m\u001b[0mroses\u001b[0m\u001b[0;34m[\u001b[0m\u001b[0;36m3\u001b[0m\u001b[0;34m]\u001b[0m\u001b[0;34m)\u001b[0m\u001b[0;34m)\u001b[0m\u001b[0;34m\u001b[0m\u001b[0;34m\u001b[0m\u001b[0m\n\u001b[0m",
            "\u001b[0;31mIndexError\u001b[0m: list index out of range"
          ]
        }
      ],
      "source": [
        "# open some image using PIL library of python\n",
        "PIL.Image.open(str(roses[3]))"
      ]
    },
    {
      "cell_type": "code",
      "execution_count": null,
      "metadata": {
        "id": "2IwLTmouc_RR"
      },
      "outputs": [],
      "source": [
        "tulips=list(data_dir.glob('tulips/*'))\n",
        "PIL.Image.open(str(tulips[3]))"
      ]
    },
    {
      "cell_type": "code",
      "execution_count": null,
      "metadata": {
        "id": "Ra4NNdI9c_RS"
      },
      "outputs": [],
      "source": [
        "flower_image_dic={\n",
        "    'tulips':list(data_dir.glob('tulips/*')),\n",
        "    'roses': list(data_dir.glob('roses/*')),\n",
        "    'dandelion': list(data_dir.glob('dandelion/*')),\n",
        "    'sunflowers':list(data_dir.glob('sunflowers/*')),\n",
        "    'daisy': list(data_dir.glob('daisy/*'))\n",
        "}"
      ]
    },
    {
      "cell_type": "code",
      "execution_count": null,
      "metadata": {
        "id": "aXo7HvfJc_RS"
      },
      "outputs": [],
      "source": [
        "flower_labels_dic={\n",
        "    'tulips':0,\n",
        "    'roses':1,\n",
        "    'dandelion': 2,\n",
        "    'sunflowers':3,\n",
        "    'daisy':4\n",
        "    }"
      ]
    },
    {
      "cell_type": "code",
      "execution_count": null,
      "metadata": {
        "id": "dqICffexc_RS"
      },
      "outputs": [],
      "source": [
        "import cv2"
      ]
    },
    {
      "cell_type": "code",
      "execution_count": null,
      "metadata": {
        "id": "uty_34Rmc_RS"
      },
      "outputs": [],
      "source": []
    },
    {
      "cell_type": "code",
      "execution_count": null,
      "metadata": {
        "id": "qRd7_Pikc_RT"
      },
      "outputs": [],
      "source": [
        "img=cv2.imread(str(flower_image_dic['roses'][0]))"
      ]
    },
    {
      "cell_type": "markdown",
      "metadata": {
        "id": "HhfN2rGec_RT"
      },
      "source": [
        "### data preparation"
      ]
    },
    {
      "cell_type": "code",
      "execution_count": null,
      "metadata": {
        "id": "nBaqNVJAc_RT"
      },
      "outputs": [],
      "source": [
        "img.shape"
      ]
    },
    {
      "cell_type": "code",
      "execution_count": null,
      "metadata": {
        "id": "dyTHhjtKc_RT"
      },
      "outputs": [],
      "source": [
        "cv2.resize(img,(180,180)).shape"
      ]
    },
    {
      "cell_type": "markdown",
      "metadata": {
        "id": "oBKYLHRhc_RT"
      },
      "source": []
    },
    {
      "cell_type": "code",
      "execution_count": null,
      "metadata": {
        "id": "OHuTLwSEc_RT"
      },
      "outputs": [],
      "source": [
        "x,y=[],[]\n",
        "#iterating throw every dicitionary\n",
        "for flower_name,images in flower_image_dic.items():\n",
        "   #iterating throw every image\n",
        "   for image in images:\n",
        "     #  machine learning model every sample to be in same dimension so resize is important\n",
        "\n",
        "      img=cv2.imread(str(image))\n",
        "      resize_img=cv2.resize(img,(180,180))\n",
        "      x.append(resize_img)\n",
        "      y.append(flower_labels_dic[flower_name])"
      ]
    },
    {
      "cell_type": "code",
      "execution_count": null,
      "metadata": {
        "id": "y1AJYTx4c_RU"
      },
      "outputs": [],
      "source": [
        "x=np.array(x)\n",
        "y=np.array(y)\n"
      ]
    },
    {
      "cell_type": "code",
      "execution_count": null,
      "metadata": {
        "id": "wTGYsIcdc_RU"
      },
      "outputs": [],
      "source": [
        "from sklearn.model_selection import train_test_split\n",
        "X_train,X_test,y_train,y_test=train_test_split(x,y,test_size=0.2,random_state=42)"
      ]
    },
    {
      "cell_type": "code",
      "execution_count": null,
      "metadata": {
        "id": "8rMRCwNwc_RU"
      },
      "outputs": [],
      "source": [
        "len(X_train)"
      ]
    },
    {
      "cell_type": "code",
      "execution_count": null,
      "metadata": {
        "id": "26aXsm8Kc_RU"
      },
      "outputs": [],
      "source": [
        "X_train_scaled=X_train/255\n",
        "X_test_scaled=X_test/255"
      ]
    },
    {
      "cell_type": "code",
      "execution_count": null,
      "metadata": {
        "id": "o-cS5DV9c_RV"
      },
      "outputs": [],
      "source": [
        "X_test_scaled.shape"
      ]
    },
    {
      "cell_type": "code",
      "execution_count": null,
      "metadata": {
        "id": "PGQr02unc_RV"
      },
      "outputs": [],
      "source": [
        "X_train_scaled[:10]"
      ]
    },
    {
      "cell_type": "code",
      "execution_count": null,
      "metadata": {
        "id": "ucWjWcNzc_RW"
      },
      "outputs": [],
      "source": [
        "# from tensorflow.keras import layers, Sequential\n",
        "\n",
        "# Assuming `num_classes` is defined elsewhere in your code\n",
        "num_classes = 5  # You might have a different number of classes\n",
        "\n",
        "model = Sequential([\n",
        "    # Convolutional layers\n",
        "    layers.Conv2D(16, 3, padding='same', activation='relu'),\n",
        "    layers.MaxPooling2D(),\n",
        "    layers.Conv2D(32, 3, padding='same', activation='relu'),\n",
        "    layers.MaxPooling2D(),\n",
        "    layers.Flatten(),\n",
        "    # Dense layers\n",
        "    layers.Dense(128, activation='relu'),\n",
        "    layers.Dense(num_classes)  # Using softmax activation for multi-class classification\n",
        "])\n"
      ]
    },
    {
      "cell_type": "code",
      "execution_count": null,
      "metadata": {
        "id": "WKYLKJA4c_RW"
      },
      "outputs": [],
      "source": [
        "# model.compile(optimizer='adam',\n",
        "\n",
        "#               loss=tf.keras.losses.SparseCategoricalCrossentropy(from_logits=True),\n",
        "#                metrics=['accurancy'])\n",
        "model.compile(optimizer='adam', loss='sparse_categorical_crossentropy', metrics=['accuracy'])\n"
      ]
    },
    {
      "cell_type": "code",
      "execution_count": null,
      "metadata": {
        "id": "S090qe1wc_RX"
      },
      "outputs": [],
      "source": [
        "print(\"X_train_scaled shape:\", X_train_scaled.shape)\n",
        "print(\"y_train_scaled shape:\", y_train_scaled.shape)\n"
      ]
    },
    {
      "cell_type": "code",
      "execution_count": null,
      "metadata": {
        "id": "safdNKsfc_RX"
      },
      "outputs": [],
      "source": [
        "model.fit(X_train_scaled,y_train_scaled, epochs=5)"
      ]
    },
    {
      "cell_type": "code",
      "execution_count": null,
      "metadata": {
        "id": "-qXFcpotc_RX"
      },
      "outputs": [],
      "source": [
        "num_classes = 5\n",
        "\n",
        "model = Sequential([\n",
        "  layers.Conv2D(16, 3, padding='same', activation='relu'),\n",
        "  layers.MaxPooling2D(),\n",
        "  layers.Conv2D(32, 3, padding='same', activation='relu'),\n",
        "  layers.MaxPooling2D(),\n",
        "  layers.Conv2D(64, 3, padding='same', activation='relu'),\n",
        "  layers.MaxPooling2D(),\n",
        "  layers.Flatten(),\n",
        "  layers.Dense(128, activation='relu'),\n",
        "  layers.Dense(num_classes)\n",
        "])\n",
        "\n",
        "model.compile(optimizer='adam',\n",
        "              loss=tf.keras.losses.SparseCategoricalCrossentropy(from_logits=True),\n",
        "              metrics=['accuracy'])\n",
        "\n",
        "model.fit(X_train_scaled, y_train, epochs=5)"
      ]
    },
    {
      "cell_type": "code",
      "execution_count": null,
      "metadata": {
        "id": "xugK84nAc_RY"
      },
      "outputs": [],
      "source": [
        "X_test_scaled.shape"
      ]
    },
    {
      "cell_type": "code",
      "execution_count": null,
      "metadata": {
        "id": "eULpH0GRc_RY"
      },
      "outputs": [],
      "source": [
        "y_test.shape"
      ]
    },
    {
      "cell_type": "code",
      "execution_count": null,
      "metadata": {
        "id": "2nD5NWIXc_RY"
      },
      "outputs": [],
      "source": [
        "model.evaluate(X_test_scaled,y_test)"
      ]
    },
    {
      "cell_type": "code",
      "execution_count": null,
      "metadata": {
        "id": "tsr56Ydic_RY"
      },
      "outputs": [],
      "source": [
        "#now let make some pediction on our test sets\n",
        "pred=model.predict(X_test_scaled)"
      ]
    },
    {
      "cell_type": "code",
      "execution_count": null,
      "metadata": {
        "id": "-tS9roF8c_RZ"
      },
      "outputs": [],
      "source": [
        "pred"
      ]
    },
    {
      "cell_type": "code",
      "execution_count": null,
      "metadata": {
        "id": "noyTPpXEc_RZ"
      },
      "outputs": [],
      "source": [
        "score=tf.nn.softmax(pred[0])"
      ]
    },
    {
      "cell_type": "code",
      "execution_count": null,
      "metadata": {
        "id": "VPu6EVmwc_RZ"
      },
      "outputs": [],
      "source": [
        "np.argmax(score)"
      ]
    },
    {
      "cell_type": "code",
      "execution_count": null,
      "metadata": {
        "id": "x-URXjTXc_RZ"
      },
      "outputs": [],
      "source": [
        "y_test[0]"
      ]
    },
    {
      "cell_type": "code",
      "execution_count": null,
      "metadata": {
        "id": "6ML1OV8bc_Rj"
      },
      "outputs": [],
      "source": [
        "data_augmentation = keras.Sequential(\n",
        "  [\n",
        "    layers.experimental.preprocessing.RandomFlip(\"horizontal\",\n",
        "                                                 input_shape=(180,180,\n",
        "                                                              3)),\n",
        "    layers.experimental.preprocessing.RandomRotation(0.1),\n",
        "    layers.experimental.preprocessing.RandomZoom(0.1),\n",
        "  ]\n",
        ")"
      ]
    },
    {
      "cell_type": "code",
      "execution_count": null,
      "metadata": {
        "id": "eYTYNozkc_Rj"
      },
      "outputs": [],
      "source": [
        "    ### original image"
      ]
    },
    {
      "cell_type": "code",
      "execution_count": null,
      "metadata": {
        "id": "Rqi8qYFUc_Rj"
      },
      "outputs": [],
      "source": [
        "plt.axis('off')\n",
        "plt.imshow(x[1])"
      ]
    },
    {
      "cell_type": "code",
      "execution_count": null,
      "metadata": {
        "id": "yDhemHWdc_Rj"
      },
      "outputs": [],
      "source": [
        "plt.imshow([data.arg])"
      ]
    }
  ],
  "metadata": {
    "kernelspec": {
      "display_name": "Python 3",
      "name": "python3"
    },
    "language_info": {
      "codemirror_mode": {
        "name": "ipython",
        "version": 3
      },
      "file_extension": ".py",
      "mimetype": "text/x-python",
      "name": "python",
      "nbconvert_exporter": "python",
      "pygments_lexer": "ipython3",
      "version": "3.11.3"
    },
    "colab": {
      "provenance": [],
      "toc_visible": true,
      "include_colab_link": true
    },
    "accelerator": "TPU"
  },
  "nbformat": 4,
  "nbformat_minor": 0
}